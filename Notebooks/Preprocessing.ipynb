{
 "cells": [
  {
   "cell_type": "code",
   "execution_count": 2,
   "id": "acb87476",
   "metadata": {},
   "outputs": [],
   "source": [
    "import pandas as pd\n",
    "import numpy as np\n",
    "import matplotlib.pyplot as plt\n",
    "import anndata as ad\n",
    "import scanpy as sc\n",
    "from scipy.stats import variation"
   ]
  },
  {
   "cell_type": "code",
   "execution_count": 12,
   "id": "527a9457",
   "metadata": {
    "scrolled": true
   },
   "outputs": [
    {
     "name": "stderr",
     "output_type": "stream",
     "text": [
      "/var/folders/q9/1w3bs32d6wb1c2s8zkkch0hc0000gn/T/ipykernel_62991/3271101617.py:1: DtypeWarning: Columns (2,3,4,5,6,7,8,9,10,11,12,13,14,15,16,17,18,19,20,21,22,23,24,25,26,27,28,29,30,31,32,33,34,35,36,37,38,39,40,41,42,43,44,45,46,47,48,49,50,51,52,53,54,55,56,57,58,59,60,61,62,63,64,65,66,67,68,69,70,71,72,73,74,75,76,77,78,79,80,81,82,83,84,85,86,87,88,89,90,91,92,93,94,95,96,97,98,99,100,101,102,103,104,105,106,107,108,109,110,111,112,113,114,115,116,117,118,119,120,121,122,123,124,125,126,127,128,129,130,131,132,133,134,135,136,137,138,139,140,141,142,143,144,145,146,147,148,149,150,151,152,153,154,155,156,157,158,159,160,161,162,163,164,165,166,167,168,169,170,171,172,173,174,175,176,177,178,179,180,181,182,183,184,185,186,187,188,189,190,191,192,193,194,195,196,197,198,199,200,201,202,203,204,205,206,207,208,209,210,211,212,213,214,215,216,217,218,219,220,221,222,223,224,225,226,227,228,229,230,231,232,233,234,235,236,237,238,239,240,241,242,243,244,245,246,247,248,249,250,251,252,253,254,255,256,257,258,259,260,261,262,263,264,265,266,267,268,269,270,271,272,273,274,275,276,277,278,279,280,281,282,283,284,285,286,287,288,289,290,291,292,293,294,295,296,297,298,299,300,301,302,303,304,305,306,307,308,309,310,311,312,313,314,315,316,317,318,319,320,321,322,323,324,325,326,327,328,329,330,331,332,333,334,335,336,337,338,339,340,341,342,343,344,345,346,347,348,349,350,351,352,353,354,355,356,357,358,359,360,361,362,363,364,365,366,367,368,369,370,371,372,373,374,375,376,377,378,379,380,381,382,383,384,385,386,387,388,389,390,391,392,393,394,395,396,397,398,399,400,401,402,403,404,405,406,407,408,409,410,411,412,413,414,415,416,417,418,419,420,421,422,423,424,425,426,427,428,429,430,431,432,433,434,435,436,437,438,439,440,441,442,443,444,445,446,447,448,449,450,451,452,453,454,455,456,457,458,459,460,461,462,463,464,465,466,467,468,469,470,471,472,473,474,475,476,477,478,479,480,481,482,483,484,485,486,487,488,489,490,491,492,493,494,495,496,497,498,499,500,501,502,503,504,505,506,507,508,509,510,511,512,513,514,515,516,517,518,519,520,521,522,523,524,525,526,527,528,529,530,531,532,533,534,535,536,537,538,539,540,541,542,543,544,545,546,547,548,549,550,551,552,553,554,555,556,557,558,559,560,561,562,563,564,565,566,567,568,569,570,571,572,573,574,575,576,577,578,579,580,581,582,583,584,585,586,587,588,589,590,591,592,593,594,595,596,597,598,599,600,601,602,603,604,605,606,607,608,609,610,611,612,613,614,615,616,617,618,619,620,621,622,623,624,625,626,627,628,629,630,631,632,633,634,635,636,637,638,639,640,641,642,643,644,645,646,647,648,649,650,651,652,653,654,655,656,657,658,659,660,661,662,663,664,665,666,667,668,669,670,671,672,673,674,675,676,677,678,679,680,681,682,683,684,685,686,687,688,689,690,691,692,693,694,695,696,697,698,699,700,701,702,703,704,705,706,707,708,709,710,711,712,713,714,715,716,717,718,719,720,721,722,723,724,725,726,727,728,729,730,731,732,733,734,735,736,737,738,739,740,741,742,743,744,745,746,747,748,749,750,751,752,753,754,755,756,757,758,759,760,761,762,763,764,765,766,767,768,769,770,771,772,773,774,775,776,777,778,779,780,781,782,783,784,785,786,787,788,789,790,791,792,793,794,795,796,797,798,799,800,801,802,803,804,805,806,807,808,809,810,811,812,813,814,815,816,817,818,819,820,821,822,823,824,825,826,827,828,829,830,831,832,833,834,835,836,837,838,839,840,841,842,843,844,845,846,847,848,849,850,851,852,853,854,855,856,857,858,859,860,861,862,863,864,865,866,867,868,869,870,871,872,873,874,875,876,877,878,879,880,881,882,883,884,885,886,887,888,889,890,891,892,893,894,895,896,897,898,899,900,901,902,903,904,905,906,907,908,909,910,911,912,913,914,915,916,917,918,919,920,921,922,923,924,925,926,927,928,929,930,931,932,933,934,935,936,937,938,939,940,941,942,943,944,945,946,947,948,949,950,951,952,953,954,955,956,957,958,959,960,961,962,963,964,965,966,967,968,969,970,971,972,973,974,975,976,977,978,979,980,981,982,983,984,985,986,987,988,989,990,991,992,993,994,995,996,997,998,999,1000,1001,1002,1003,1004,1005,1006,1007,1008,1009,1010,1011,1012,1013,1014,1015,1016,1017,1018,1019,1020,1021,1022,1023,1024,1025,1026,1027,1028,1029,1030,1031,1032,1033,1034,1035,1036,1037,1038,1039,1040,1041,1042,1043,1044,1045,1046,1047,1048,1049,1050,1051,1052,1053,1054,1055,1056,1057,1058,1059,1060,1061,1062,1063,1064,1065,1066,1067,1068,1069,1070,1071,1072,1073,1074,1075,1076,1077,1078,1079,1080,1081,1082,1083,1084,1085,1086,1087,1088,1089,1090,1091,1092,1093,1094,1095,1096,1097,1098,1099,1100,1101,1102,1103,1104,1105,1106,1107,1108,1109,1110,1111,1112,1113,1114,1115,1116,1117,1118,1119,1120,1121,1122,1123,1124,1125,1126,1127,1128,1129,1130,1131,1132,1133,1134,1135,1136,1137,1138,1139,1140,1141,1142,1143,1144,1145,1146,1147,1148,1149,1150,1151,1152,1153,1154,1155,1156,1157,1158,1159,1160,1161,1162,1163,1164,1165,1166,1167,1168,1169,1170,1171,1172,1173,1174,1175,1176,1177,1178,1179,1180,1181,1182,1183,1184,1185,1186,1187,1188,1189,1190,1191,1192,1193,1194,1195,1196,1197,1198,1199,1200,1201,1202,1203,1204,1205,1206,1207,1208,1209,1210,1211,1212,1213) have mixed types. Specify dtype option on import or set low_memory=False.\n",
      "  rnaseq_data = pd.read_csv(\"gene_exp.gct\", skiprows = 2, sep=\"\\t\")\n",
      "/var/folders/q9/1w3bs32d6wb1c2s8zkkch0hc0000gn/T/ipykernel_62991/3271101617.py:2: DtypeWarning: Columns (2,3,4,5,6,7,8,9,10,11,12,13,14,15,16,17,18,19,20,21,22,23,24,25,26,27,28,29,30,31,32,33,34,35,36,37,38,39,40,41,42,43,44,45,46,47,48,49,50,51,52,53,54,55,56,57,58,59,60,61,62,63,64,65,66,67,68,69,70,71,72,73,74,75,76,77,78,79,80,81,82,83,84,85,86,87,88,89,90,91,92,93,94,95,96,97,98,99,100,101,102,103,104,105,106,107,108,109,110,111,112,113,114,115,116,117,118,119,120,121,122,123,124,125,126,127,128,129,130,131,132,133,134,135,136,137,138,139,140,141,142,143,144,145,146,147,148,149,150,151,152,153,154,155,156,157,158,159,160,161,162,163,164,165,166,167,168,169,170,171,172,173,174,175,176,177,178,179,180,181,182,183,184,185,186,187,188,189,190,191,192,193,194,195,196,197,198,199,200,201,202,203,204,205,206,207,208,209,210,211,212,213,214,215,216,217,218,219,220,221,222,223,224,225,226,227,228,229,230,231,232,233,234,235,236,237,238,239,240,241,242,243,244,245,246,247,248,249,250,251,252,253,254,255,256,257,258,259,260,261,262,263,264,265,266,267,268,269,270,271,272,273,274,275,276,277,278,279,280,281,282,283,284,285,286,287,288,289,290,291,292,293,294,295,296,297,298,299,300,301,302,303,304,305,306,307,308,309,310,311,312,313,314,315,316,317,318,319,320,321,322,323,324,325,326,327,328,329,330,331,332,333,334,335,336,337,338,339,340,341,342,343,344,345,346,347,348,349,350,351,352,353,354,355,356,357,358,359,360,361,362,363,364,365,366,367,368,369,370,371,372,373,374,375,376,377,378,379,380,381,382,383,384,385,386,387,388,389,390,391,392,393,394,395,396,397,398,399,400,401,402,403,404,405,406,407,408,409,410,411,412,413,414,415,416,417,418,419,420,421,422,423,424,425,426,427,428,429,430,431,432,433,434,435,436,437,438,439,440,441,442,443,444,445,446,447,448,449,450,451,452,453,454,455,456,457,458,459,460,461,462,463,464,465,466,467,468,469,470,471,472,473,474,475,476,477,478,479,480,481,482,483,484,485,486,487,488,489,490,491,492,493,494,495,496,497,498,499,500,501,502,503,504,505,506,507,508,509,510,511,512,513,514,515,516,517,518,519,520,521,522,523,524,525,526,527,528,529,530,531,532,533,534,535,536,537,538,539,540,541,542,543,544,545,546,547,548,549,550,551,552,553,554,555,556,557,558,559,560,561,562,563,564,565,566,567,568,569,570,571,572,573,574,575,576,577,578,579,580,581,582,583,584,585,586,587,588,589,590,591,592,593,594,595,596,597,598,599,600,601,602,603,604,605,606,607,608,609,610,611,612,613,614,615,616,617,618,619,620,621,622,623,624,625,626,627,628,629,630,631,632,633,634,635,636,637,638,639,640,641,642,643,644,645,646,647,648,649,650,651,652,653,654,655,656,657,658,659,660,661,662,663,664,665,666,667,668,669,670,671,672,673,674,675,676,677,678,679,680,681,682,683,684,685,686,687,688,689,690,691,692,693,694,695,696,697,698,699,700,701,702,703,704,705,706,707,708,709,710,711,712,713,714,715,716,717,718,719,720,721,722,723,724,725,726,727,728,729,730,731,732,733,734,735,736,737,738,739,740,741,742,743,744,745,746,747,748,749,750,751,752,753,754,755,756,757,758,759,760,761,762,763,764,765,766,767,768,769,770,771,772,773,774,775,776,777,778,779,780,781,782,783,784,785,786,787,788,789,790,791,792,793,794,795,796,797,798,799,800,801,802,803,804,805,806,807,808,809,810,811,812,813,814,815,816,817,818,819,820,821,822,823,824,825,826,827,828,829,830,831,832,833,834,835,836,837,838,839,840,841,842,843,844,845,846,847,848,849,850,851,852,853,854,855,856,857,858,859,860,861,862,863,864,865,866,867,868,869,870,871,872,873,874,875,876,877,878,879,880,881,882,883,884,885,886) have mixed types. Specify dtype option on import or set low_memory=False.\n",
      "  methylation_data = pd.read_csv('methylation.gct', skiprows = 2, sep=\"\\t\")\n"
     ]
    }
   ],
   "source": [
    "rnaseq_data = pd.read_csv(\"gene_exp.gct\", skiprows = 2, sep=\"\\t\")\n",
    "methylation_data = pd.read_csv('methylation.gct', skiprows = 2, sep=\"\\t\")\n",
    "proteomics_data = pd.read_csv('proteomics.gct', skiprows = 2, sep=\"\\t\")"
   ]
  },
  {
   "cell_type": "code",
   "execution_count": 13,
   "id": "52f5a55e",
   "metadata": {
    "scrolled": true
   },
   "outputs": [],
   "source": [
    "rnaseq_data=rnaseq_data.set_index('id')\n",
    "methylation_data=methylation_data.set_index('id')\n",
    "proteomics_data=proteomics_data.set_index('id')\n",
    "rnaseq_data=rnaseq_data.T\n",
    "methylation_data=methylation_data.T\n",
    "proteomics_data=proteomics_data.T\n",
    "rnaseq_data= rnaseq_data.set_index('participant_id')\n",
    "methylation_data=methylation_data.set_index('participant_id')\n",
    "proteomics_data=proteomics_data.set_index('participant_id')\n",
    "rnaseq_data=rnaseq_data.drop('na')\n",
    "methylation_data=methylation_data.drop('na')\n",
    "proteomics_data=proteomics_data.drop('na')"
   ]
  },
  {
   "cell_type": "code",
   "execution_count": 15,
   "id": "f395a105",
   "metadata": {},
   "outputs": [],
   "source": [
    "rnaseq_data=rnaseq_data.drop(columns=rnaseq_data.columns[1:133]) #shape: 1212x18302\n",
    "methylation_data=methylation_data.drop(columns=methylation_data.columns[1:133]) #shape: 885x20107\n",
    "proteomics_data=proteomics_data.drop(columns=proteomics_data.columns[1:133]) # shape: 936x227"
   ]
  },
  {
   "cell_type": "code",
   "execution_count": 16,
   "id": "6bba408c",
   "metadata": {
    "scrolled": true
   },
   "outputs": [
    {
     "name": "stdout",
     "output_type": "stream",
     "text": [
      "id                      sample_type    A1BG     A2BP1   A2LD1    A2ML1  \\\n",
      "participant_id                                                           \n",
      "aalk            Primary solid Tumor  7.6000       NaN  6.0000  0.70000   \n",
      "aaak            Primary solid Tumor  8.1000    1.9000  7.3000   1.8000   \n",
      "aat1            Primary solid Tumor  7.7000       NaN  6.7000   2.0000   \n",
      "a9qa            Primary solid Tumor  8.3000  -0.90000  7.9000      NaN   \n",
      "a0sf            Primary solid Tumor  8.3000   -1.2000  7.3000   1.8000   \n",
      "...                             ...     ...       ...     ...      ...   \n",
      "a86g            Primary solid Tumor  9.1000    2.4000  5.9000  0.50000   \n",
      "ab41            Primary solid Tumor  6.9000    2.2000  8.3000      NaN   \n",
      "a899            Primary solid Tumor  7.8000   -1.3000  7.0000  -1.3000   \n",
      "a8r5            Primary solid Tumor  8.8000  -0.70000  6.3000   1.3000   \n",
      "a8r6            Primary solid Tumor  8.0000       NaN  4.7000   2.1000   \n",
      "\n",
      "id                 A2M  A4GALT     A4GNT    AAAS    AACSL  ... ZWINT ZXDA  \\\n",
      "participant_id                                             ...              \n",
      "aalk            13.400  9.0000       NaN  9.6000      NaN  ...   9.4  5.8   \n",
      "aaak            13.200  8.4000   -1.2000  9.7000  -1.2000  ...   9.4  5.6   \n",
      "aat1            13.900  8.0000  -0.30000  9.6000      NaN  ...   9.1  5.5   \n",
      "a9qa            11.600  8.7000    1.9000  9.8000      NaN  ...  10.7  4.8   \n",
      "a0sf            13.900  8.8000  -0.20000  10.000      NaN  ...   9.4  6.2   \n",
      "...                ...     ...       ...     ...      ...  ...   ...  ...   \n",
      "a86g            14.200  8.1000   0.90000  10.200      NaN  ...   7.8  5.0   \n",
      "ab41            13.200  11.000       NaN  10.400      NaN  ...   8.9  4.3   \n",
      "a899            14.300  9.0000  -0.30000  9.5000  -1.3000  ...   8.8  6.1   \n",
      "a8r5            15.200  8.8000       NaN  10.000      NaN  ...   8.0  5.0   \n",
      "a8r6            12.800  9.6000       NaN  9.8000      NaN  ...  11.3  5.1   \n",
      "\n",
      "id             ZXDB  ZXDC ZYG11A ZYG11B   ZYX ZZEF1 ZZZ3 psiTPTE22  \n",
      "participant_id                                                      \n",
      "aalk            8.8   9.8    7.5    9.2  12.5   9.6  9.5       6.1  \n",
      "aaak            8.7  10.0    3.8    9.6  12.0   9.7  9.8       7.5  \n",
      "aat1            9.1   9.9    5.7    9.0  12.1  10.5  9.2       5.9  \n",
      "a9qa            8.2   9.7    1.1    8.3  11.7  10.1  8.8       1.9  \n",
      "a0sf            9.1  10.0    6.6    9.8  12.4   9.9  9.0       5.7  \n",
      "...             ...   ...    ...    ...   ...   ...  ...       ...  \n",
      "a86g            8.2   9.9    6.8    9.1  12.4   9.9  9.8       7.8  \n",
      "ab41            7.8   8.8    5.5    7.9  12.7   9.1  8.2       4.8  \n",
      "a899            9.3  10.3    4.4    9.4  12.3  10.9  9.4       6.6  \n",
      "a8r5            8.0   9.6    5.7    9.0  12.7   9.6  9.6       7.9  \n",
      "a8r6            8.6   9.9    7.1    9.2  11.7   9.1  8.9       4.4  \n",
      "\n",
      "[730 rows x 18302 columns]\n",
      "id                      sample_type     A1BG     A1CF    A2BP1    A2LD1  \\\n",
      "participant_id                                                            \n",
      "aalk            Primary solid Tumor  0.62000  0.63000  0.49000  0.75000   \n",
      "aaak            Primary solid Tumor  0.61000  0.51000  0.46000  0.70000   \n",
      "aat1            Primary solid Tumor  0.58000  0.55000  0.48000  0.76000   \n",
      "a9qa            Primary solid Tumor  0.67000  0.38000  0.62000  0.69000   \n",
      "a0sf            Primary solid Tumor  0.54000  0.47000  0.47000  0.71000   \n",
      "...                             ...      ...      ...      ...      ...   \n",
      "a86g            Primary solid Tumor  0.62000  0.72000  0.51000  0.79000   \n",
      "ab41            Primary solid Tumor  0.58000  0.61000  0.56000  0.68000   \n",
      "a899            Primary solid Tumor  0.59000  0.71000  0.52000  0.75000   \n",
      "a8r5            Primary solid Tumor  0.62000  0.69000  0.52000  0.79000   \n",
      "a8r6            Primary solid Tumor  0.57000  0.22000  0.34000  0.64000   \n",
      "\n",
      "id                  A2M    A2ML1   A4GALT    A4GNT     AAA1  ... ZWILCH ZWINT  \\\n",
      "participant_id                                               ...                \n",
      "aalk            0.73000  0.84000  0.56000  0.65000  0.82000  ...   0.15  0.05   \n",
      "aaak            0.69000  0.80000  0.50000  0.53000  0.85000  ...   0.12  0.05   \n",
      "aat1            0.74000  0.84000  0.52000  0.57000  0.78000  ...   0.11  0.04   \n",
      "a9qa            0.78000  0.86000  0.50000  0.76000  0.82000  ...   0.14  0.04   \n",
      "a0sf            0.51000  0.78000  0.51000  0.58000  0.79000  ...   0.11  0.03   \n",
      "...                 ...      ...      ...      ...      ...  ...    ...   ...   \n",
      "a86g            0.72000  0.82000  0.55000  0.66000  0.82000  ...   0.12  0.03   \n",
      "ab41            0.74000  0.85000  0.48000  0.68000  0.81000  ...   0.14  0.05   \n",
      "a899            0.78000  0.84000  0.51000  0.63000  0.80000  ...   0.11  0.03   \n",
      "a8r5            0.70000  0.79000  0.53000  0.70000  0.82000  ...   0.12  0.06   \n",
      "a8r6            0.59000  0.75000  0.47000  0.54000  0.86000  ...   0.11  0.02   \n",
      "\n",
      "id              ZXDC ZYG11A ZYG11B   ZYX ZZEF1  ZZZ3 psiTPTE22  tAKR  \n",
      "participant_id                                                        \n",
      "aalk             0.3   0.41   0.45  0.22  0.49  0.11      0.47  0.68  \n",
      "aaak             0.3   0.38   0.49  0.23  0.49  0.12      0.31  0.74  \n",
      "aat1            0.27   0.46   0.49  0.22  0.48  0.11       0.4  0.66  \n",
      "a9qa            0.33    0.8   0.45  0.26  0.52  0.11      0.62  0.89  \n",
      "a0sf            0.26   0.39   0.44  0.21  0.47  0.09       0.4  0.65  \n",
      "...              ...    ...    ...   ...   ...   ...       ...   ...  \n",
      "a86g             0.3   0.37   0.44  0.22  0.48   0.1      0.17  0.85  \n",
      "ab41             0.3   0.42   0.43  0.23  0.48  0.11      0.35  0.54  \n",
      "a899            0.27   0.42   0.45  0.21  0.48   0.1      0.18  0.59  \n",
      "a8r5             0.3   0.43    0.5  0.23  0.47  0.11      0.26   0.8  \n",
      "a8r6            0.26   0.42   0.45  0.21   0.5   0.1      0.32  0.65  \n",
      "\n",
      "[726 rows x 20107 columns]\n",
      "id                      sample_type      YWHAB      YWHAE     YWHAZ  \\\n",
      "participant_id                                                        \n",
      "aalk            Primary solid Tumor   -0.20000   0.080000   0.15000   \n",
      "aaak            Primary solid Tumor   -0.21000   0.060000  0.030000   \n",
      "aat1            Primary solid Tumor   -0.47000    0.14000   0.23000   \n",
      "a9qa            Primary solid Tumor   -0.35000    0.16000   0.25000   \n",
      "a0sf            Primary solid Tumor  -0.070000   -0.17000  -0.19000   \n",
      "...                             ...        ...        ...       ...   \n",
      "ab41            Primary solid Tumor  -0.080000    0.11000   0.49000   \n",
      "a899            Solid Tissue Normal    0.62000    0.21000  -0.64000   \n",
      "a899            Primary solid Tumor   -0.39000    0.23000   0.11000   \n",
      "a8r5            Primary solid Tumor   -0.11000  -0.030000   0.24000   \n",
      "a8r6            Primary solid Tumor   -0.56000  -0.030000   0.28000   \n",
      "\n",
      "id               EIF4EBP1   EIF4EBP1  EIF4EBP1  EIF4EBP1   TP53BP1      ARAF  \\\n",
      "participant_id                                                                 \n",
      "aalk              0.30000   -0.44000  -0.46000  -0.36000   0.47000   0.38000   \n",
      "aaak              0.43000   -0.10000  -0.50000  -0.43000   0.14000   0.34000   \n",
      "aat1              0.43000   -0.23000   0.28000  -0.41000   0.74000   0.40000   \n",
      "a9qa               1.2000    0.45000    1.0000   0.31000   0.58000   0.32000   \n",
      "a0sf              0.39000   0.040000   0.19000  -0.17000   0.28000  0.020000   \n",
      "...                   ...        ...       ...       ...       ...       ...   \n",
      "ab41               1.4500    0.14000   0.99000   0.21000   0.48000   0.30000   \n",
      "a899            -0.020000  -0.010000  -0.29000   0.10000  -0.82000  -0.44000   \n",
      "a899              0.94000  -0.070000   0.22000  -0.11000   0.64000   0.17000   \n",
      "a8r5              0.77000    -0.0000   0.24000  -0.13000   0.56000   0.41000   \n",
      "a8r6              0.50000   0.010000   0.15000  -0.63000   0.59000   0.27000   \n",
      "\n",
      "id              ...     CDKN1B     CDKN1B     MAPK14     MAPK14       TP53  \\\n",
      "participant_id  ...                                                          \n",
      "aalk            ...   -0.22000   -0.34000    0.21000    0.37000   -0.14000   \n",
      "aaak            ...  -0.070000   -0.47000  -0.050000   0.070000  -0.080000   \n",
      "aat1            ...   -0.15000   -0.58000    0.35000    0.29000   -0.23000   \n",
      "a9qa            ...   0.080000   -0.33000    0.17000    -1.0600    0.18000   \n",
      "a0sf            ...  -0.030000  -0.040000    -0.0000    0.45000   -0.38000   \n",
      "...             ...        ...        ...        ...        ...        ...   \n",
      "ab41            ...   -0.13000   -0.13000    0.61000    0.67000  -0.050000   \n",
      "a899            ...    0.18000    0.21000   -0.63000   -0.10000    0.74000   \n",
      "a899            ...  -0.030000   -0.45000    0.24000  -0.050000    0.10000   \n",
      "a8r5            ...     0.0000   -0.22000    0.74000    0.83000   -0.13000   \n",
      "a8r6            ...   -0.33000   -0.70000    0.24000  -0.010000  -0.070000   \n",
      "\n",
      "id                SQSTM1   RPS6KB1   RPS6KB1    RPS6KA1   RPS6KA1  \n",
      "participant_id                                                     \n",
      "aalk             0.68000   0.61000  -0.13000    0.42000  -0.12000  \n",
      "aaak             0.30000   0.82000  -0.52000     0.0000  -0.86000  \n",
      "aat1             0.59000   0.62000  -0.56000    0.51000  -0.60000  \n",
      "a9qa            -0.23000   0.84000   0.28000    0.52000  -0.50000  \n",
      "a0sf            -0.69000  -0.34000  -0.18000   0.010000  -0.21000  \n",
      "...                  ...       ...       ...        ...       ...  \n",
      "ab41             0.70000    1.1900  -0.21000  -0.010000  -0.32000  \n",
      "a899             0.24000  -0.43000   0.30000   -0.59000   0.50000  \n",
      "a899             0.79000   0.84000  -0.63000    0.58000  -0.63000  \n",
      "a8r5            0.050000   0.23000  -0.34000    0.54000  -0.23000  \n",
      "a8r6             0.94000   0.73000  -0.65000   0.020000  -0.56000  \n",
      "\n",
      "[683 rows x 227 columns]\n"
     ]
    }
   ],
   "source": [
    "common_indexes = rnaseq_data.index.intersection(methylation_data.index).intersection(proteomics_data.index)\n",
    "\n",
    "# Subset the dataframes using the common index values\n",
    "rnaseq_subset = pd.DataFrame(rnaseq_data.loc[common_indexes])\n",
    "methylation_subset =pd.DataFrame(methylation_data.loc[common_indexes])\n",
    "proteomics_subset = pd.DataFrame(proteomics_data.loc[common_indexes])\n",
    "\n",
    "# Check the resulting subsets of dataframes\n",
    "print(rnaseq_subset)\n",
    "print(methylation_subset)\n",
    "print(proteomics_subset)"
   ]
  },
  {
   "cell_type": "code",
   "execution_count": 17,
   "id": "8d2d6161",
   "metadata": {},
   "outputs": [],
   "source": [
    "rnaseq_subset = rnaseq_subset.replace({'Primary solid Tumor':0,'Solid Tissue Normal':1,'Metastatic':2})\n",
    "methylation_subset = methylation_subset.replace({'Primary solid Tumor':0,'Solid Tissue Normal':1,'Metastatic':2})\n",
    "proteomics_subset = proteomics_subset.replace({'Primary solid Tumor':0,'Solid Tissue Normal':1,'Metastatic':2})"
   ]
  },
  {
   "cell_type": "code",
   "execution_count": 18,
   "id": "71436ea1",
   "metadata": {},
   "outputs": [],
   "source": [
    "rnaseq_subset_new = rnaseq_subset[~ rnaseq_subset.index.duplicated(keep='first')]\n",
    "methylation_subset_new = methylation_subset[~ methylation_subset.index.duplicated(keep='first')]\n",
    "proteomics_subset_new = proteomics_subset[~ proteomics_subset.index.duplicated(keep='first')]"
   ]
  },
  {
   "cell_type": "code",
   "execution_count": 19,
   "id": "b0ab47af",
   "metadata": {
    "scrolled": true
   },
   "outputs": [
    {
     "name": "stderr",
     "output_type": "stream",
     "text": [
      "/var/folders/q9/1w3bs32d6wb1c2s8zkkch0hc0000gn/T/ipykernel_62991/110932236.py:1: FutureWarning: Dropping of nuisance columns in DataFrame reductions (with 'numeric_only=None') is deprecated; in a future version this will raise TypeError.  Select only valid columns before calling the reduction.\n",
      "  rnaseq_subset_new = rnaseq_subset_new.fillna(rnaseq_subset_new.mean())\n",
      "/var/folders/q9/1w3bs32d6wb1c2s8zkkch0hc0000gn/T/ipykernel_62991/110932236.py:2: FutureWarning: Dropping of nuisance columns in DataFrame reductions (with 'numeric_only=None') is deprecated; in a future version this will raise TypeError.  Select only valid columns before calling the reduction.\n",
      "  methylation_subset_new = methylation_subset_new.fillna(methylation_subset_new.mean())\n",
      "/var/folders/q9/1w3bs32d6wb1c2s8zkkch0hc0000gn/T/ipykernel_62991/110932236.py:3: FutureWarning: Dropping of nuisance columns in DataFrame reductions (with 'numeric_only=None') is deprecated; in a future version this will raise TypeError.  Select only valid columns before calling the reduction.\n",
      "  proteomics_subset_new = proteomics_subset_new.fillna(proteomics_subset_new.mean())\n"
     ]
    }
   ],
   "source": [
    "rnaseq_subset_new = rnaseq_subset_new.fillna(rnaseq_subset_new.mean())\n",
    "methylation_subset_new = methylation_subset_new.fillna(methylation_subset_new.mean())\n",
    "proteomics_subset_new = proteomics_subset_new.fillna(proteomics_subset_new.mean())"
   ]
  },
  {
   "cell_type": "code",
   "execution_count": 20,
   "id": "83830fdb",
   "metadata": {},
   "outputs": [],
   "source": [
    "rnaseq_subset_new['sample_type'] = rnaseq_subset_new['sample_type'].astype(int)\n",
    "methylation_subset_new['sample_type'] = methylation_subset_new['sample_type'].astype(int)\n",
    "proteomics_subset_new['sample_type'] = proteomics_subset_new['sample_type'].astype(int)"
   ]
  },
  {
   "cell_type": "code",
   "execution_count": 29,
   "id": "75296e1c",
   "metadata": {},
   "outputs": [],
   "source": [
    "rnaseq_subset_new = rnaseq_subset_new.astype(float)\n",
    "methylation_subset_new = methylation_subset_new.astype(float)\n",
    "proteomics_subset_new = proteomics_subset_new.astype(float)"
   ]
  },
  {
   "cell_type": "code",
   "execution_count": 30,
   "id": "4355d3ee",
   "metadata": {},
   "outputs": [],
   "source": [
    "gene_df = rnaseq_subset_new.drop(rnaseq_subset_new[rnaseq_subset_new['sample_type'] == 2].index)\n",
    "methyl_df  = methylation_subset_new.drop(methylation_subset_new[methylation_subset_new['sample_type'] == 2].index)\n",
    "prot_df = proteomics_subset_new.drop(proteomics_subset_new[proteomics_subset_new['sample_type'] == 2].index)"
   ]
  },
  {
   "cell_type": "code",
   "execution_count": 45,
   "id": "87c8f0f8",
   "metadata": {
    "scrolled": true
   },
   "outputs": [
    {
     "data": {
      "text/plain": [
       "(array([4.000000e+00, 1.200000e+01, 1.000000e+01, 1.600000e+01,\n",
       "        1.100000e+01, 3.500000e+01, 3.800000e+01, 6.900000e+01,\n",
       "        1.060000e+02, 1.570000e+02, 6.091000e+03, 1.226150e+05,\n",
       "        1.283200e+05, 2.597640e+05, 3.174840e+05, 2.996210e+05,\n",
       "        2.714500e+05, 2.690220e+05, 2.617780e+05, 2.722260e+05,\n",
       "        2.819660e+05, 2.977400e+05, 3.233750e+05, 3.578630e+05,\n",
       "        4.045340e+05, 3.905350e+05, 5.614490e+05, 7.039860e+05,\n",
       "        8.698480e+05, 1.010319e+06, 1.068242e+06, 1.011354e+06,\n",
       "        8.203850e+05, 5.614800e+05, 3.427530e+05, 2.011720e+05,\n",
       "        1.151230e+05, 5.627500e+04, 3.900600e+04, 2.058900e+04,\n",
       "        1.060400e+04, 5.330000e+03, 2.701000e+03, 1.239000e+03,\n",
       "        4.860000e+02, 1.970000e+02, 6.900000e+01, 2.700000e+01,\n",
       "        1.600000e+01, 7.000000e+00]),\n",
       " array([-8.6  , -8.008, -7.416, -6.824, -6.232, -5.64 , -5.048, -4.456,\n",
       "        -3.864, -3.272, -2.68 , -2.088, -1.496, -0.904, -0.312,  0.28 ,\n",
       "         0.872,  1.464,  2.056,  2.648,  3.24 ,  3.832,  4.424,  5.016,\n",
       "         5.608,  6.2  ,  6.792,  7.384,  7.976,  8.568,  9.16 ,  9.752,\n",
       "        10.344, 10.936, 11.528, 12.12 , 12.712, 13.304, 13.896, 14.488,\n",
       "        15.08 , 15.672, 16.264, 16.856, 17.448, 18.04 , 18.632, 19.224,\n",
       "        19.816, 20.408, 21.   ]),\n",
       " <BarContainer object of 50 artists>)"
      ]
     },
     "execution_count": 45,
     "metadata": {},
     "output_type": "execute_result"
    },
    {
     "data": {
      "image/png": "[encoded data removed]",
      "text/plain": [
       "<Figure size 640x480 with 1 Axes>"
      ]
     },
     "metadata": {},
     "output_type": "display_data"
    }
   ],
   "source": [
    "plt.hist(gene_df.values.flatten(), bins = 50)"
   ]
  },
  {
   "cell_type": "code",
   "execution_count": 46,
   "id": "fda3c9de",
   "metadata": {
    "scrolled": true
   },
   "outputs": [
    {
     "data": {
      "text/plain": [
       "(array([ 13435., 192511., 190260., 184534., 292790., 347472., 382663.,\n",
       "        404681., 427257., 427565., 420089., 421482., 407979., 387610.,\n",
       "        378103., 362148., 354601., 339805., 326030., 317221., 318909.,\n",
       "        321188., 311586., 297112., 143269., 280441., 276204., 267580.,\n",
       "        262433., 255775., 247126., 241070., 233832., 225828., 220727.,\n",
       "        215295., 210462., 210803., 206744., 202298., 195406., 192210.,\n",
       "        188603., 183604., 174774., 160415., 126593.,  66781.,  10470.,\n",
       "          1840.]),\n",
       " array([0.01  , 0.0296, 0.0492, 0.0688, 0.0884, 0.108 , 0.1276, 0.1472,\n",
       "        0.1668, 0.1864, 0.206 , 0.2256, 0.2452, 0.2648, 0.2844, 0.304 ,\n",
       "        0.3236, 0.3432, 0.3628, 0.3824, 0.402 , 0.4216, 0.4412, 0.4608,\n",
       "        0.4804, 0.5   , 0.5196, 0.5392, 0.5588, 0.5784, 0.598 , 0.6176,\n",
       "        0.6372, 0.6568, 0.6764, 0.696 , 0.7156, 0.7352, 0.7548, 0.7744,\n",
       "        0.794 , 0.8136, 0.8332, 0.8528, 0.8724, 0.892 , 0.9116, 0.9312,\n",
       "        0.9508, 0.9704, 0.99  ]),\n",
       " <BarContainer object of 50 artists>)"
      ]
     },
     "execution_count": 46,
     "metadata": {},
     "output_type": "execute_result"
    },
    {
     "data": {
      "image/png": "[encoded data removed]",
      "text/plain": [
       "<Figure size 640x480 with 1 Axes>"
      ]
     },
     "metadata": {},
     "output_type": "display_data"
    }
   ],
   "source": [
    "plt.hist(methyl_df.values.flatten(), bins = 50)"
   ]
  },
  {
   "cell_type": "code",
   "execution_count": 47,
   "id": "771fbfd1",
   "metadata": {
    "scrolled": true
   },
   "outputs": [
    {
     "data": {
      "text/plain": [
       "(array([3.0000e+00, 0.0000e+00, 4.0000e+00, 9.0000e+00, 1.0000e+01,\n",
       "        1.0000e+01, 5.0000e+00, 1.1000e+01, 1.0000e+01, 2.3000e+01,\n",
       "        3.0000e+01, 4.8000e+01, 6.4000e+01, 9.4000e+01, 1.4200e+02,\n",
       "        2.6200e+02, 3.8900e+02, 6.9000e+02, 1.1560e+03, 2.2530e+03,\n",
       "        4.5480e+03, 1.0517e+04, 2.4814e+04, 4.2516e+04, 2.6112e+04,\n",
       "        1.2660e+04, 6.6310e+03, 3.2770e+03, 1.9630e+03, 1.0580e+03,\n",
       "        6.4600e+02, 4.3700e+02, 2.8600e+02, 1.7300e+02, 1.4400e+02,\n",
       "        7.7000e+01, 7.0000e+01, 4.8000e+01, 2.6000e+01, 2.0000e+01,\n",
       "        1.3000e+01, 9.0000e+00, 4.0000e+00, 5.0000e+00, 5.0000e+00,\n",
       "        1.0000e+00, 6.0000e+00, 1.0000e+00, 0.0000e+00, 1.0000e+00]),\n",
       " array([-5.99  , -5.7362, -5.4824, -5.2286, -4.9748, -4.721 , -4.4672,\n",
       "        -4.2134, -3.9596, -3.7058, -3.452 , -3.1982, -2.9444, -2.6906,\n",
       "        -2.4368, -2.183 , -1.9292, -1.6754, -1.4216, -1.1678, -0.914 ,\n",
       "        -0.6602, -0.4064, -0.1526,  0.1012,  0.355 ,  0.6088,  0.8626,\n",
       "         1.1164,  1.3702,  1.624 ,  1.8778,  2.1316,  2.3854,  2.6392,\n",
       "         2.893 ,  3.1468,  3.4006,  3.6544,  3.9082,  4.162 ,  4.4158,\n",
       "         4.6696,  4.9234,  5.1772,  5.431 ,  5.6848,  5.9386,  6.1924,\n",
       "         6.4462,  6.7   ]),\n",
       " <BarContainer object of 50 artists>)"
      ]
     },
     "execution_count": 47,
     "metadata": {},
     "output_type": "execute_result"
    },
    {
     "data": {
      "image/png": "[encoded data removed]",
      "text/plain": [
       "<Figure size 640x480 with 1 Axes>"
      ]
     },
     "metadata": {},
     "output_type": "display_data"
    }
   ],
   "source": [
    "plt.hist(prot_df.values.flatten(), bins = 50)"
   ]
  },
  {
   "cell_type": "code",
   "execution_count": 31,
   "id": "73a5ac86",
   "metadata": {},
   "outputs": [],
   "source": [
    "gene_sample = gene_df['sample_type']\n",
    "methyl_sample = methyl_df ['sample_type']\n",
    "prot_sample = prot_df['sample_type']"
   ]
  },
  {
   "cell_type": "code",
   "execution_count": 32,
   "id": "11f86f42",
   "metadata": {},
   "outputs": [],
   "source": [
    "gene_df = gene_df.drop(columns = 'sample_type')\n",
    "methyl_df = methyl_df.drop(columns = 'sample_type')\n",
    "prot_df = prot_df.drop(columns = 'sample_type')"
   ]
  },
  {
   "cell_type": "code",
   "execution_count": 33,
   "id": "9e09fea8",
   "metadata": {},
   "outputs": [
    {
     "name": "stderr",
     "output_type": "stream",
     "text": [
      "/var/folders/q9/1w3bs32d6wb1c2s8zkkch0hc0000gn/T/ipykernel_62991/1847385111.py:6: FutureWarning: Support for multi-dimensional indexing (e.g. `obj[:, None]`) is deprecated and will be removed in a future version.  Convert to a numpy array before indexing instead.\n",
      "  df_norm_gene = gene_df / norm_factor[:, None]\n"
     ]
    }
   ],
   "source": [
    "# compute normalization factor\n",
    "gene_counts = gene_df.sum(axis=1)\n",
    "norm_factor = gene_counts / np.median(gene_counts)\n",
    "\n",
    "# normalize data\n",
    "df_norm_gene = gene_df / norm_factor[:, None]"
   ]
  },
  {
   "cell_type": "code",
   "execution_count": 34,
   "id": "16156c89",
   "metadata": {
    "scrolled": true
   },
   "outputs": [
    {
     "name": "stderr",
     "output_type": "stream",
     "text": [
      "/var/folders/q9/1w3bs32d6wb1c2s8zkkch0hc0000gn/T/ipykernel_62991/2073347762.py:5: FutureWarning: X.dtype being converted to np.float32 from float64. In the next version of anndata (0.9) conversion will not be automatic. Pass dtype explicitly to avoid this warning. Pass `AnnData(X, dtype=X.dtype, ...)` to get the future behavour.\n",
      "  Adata_gene = sc.AnnData(df_norm_gene)\n",
      "/Users/fenisha/opt/anaconda3/lib/python3.9/site-packages/anndata/_core/anndata.py:1830: UserWarning: Variable names are not unique. To make them unique, call `.var_names_make_unique`.\n",
      "  utils.warn_names_duplicates(\"var\")\n"
     ]
    },
    {
     "data": {
      "text/plain": [
       "(array([1.000000e+00, 3.000000e+00, 0.000000e+00, 1.000000e+00,\n",
       "        4.000000e+00, 7.000000e+00, 1.400000e+01, 2.700000e+01,\n",
       "        6.200000e+01, 1.190000e+02, 2.240000e+02, 4.960000e+02,\n",
       "        1.047000e+03, 2.333000e+03, 5.990000e+03, 1.599000e+04,\n",
       "        4.585900e+04, 1.468340e+05, 4.789980e+05, 1.121669e+06,\n",
       "        1.937300e+06, 2.985114e+06, 2.212611e+06, 1.449100e+06,\n",
       "        7.169200e+05, 2.958690e+05, 1.144740e+05, 4.409300e+04,\n",
       "        1.775900e+04, 7.271000e+03, 3.230000e+03, 1.582000e+03,\n",
       "        8.370000e+02, 4.830000e+02, 3.050000e+02, 1.740000e+02,\n",
       "        1.160000e+02, 6.800000e+01, 4.100000e+01, 2.700000e+01,\n",
       "        1.800000e+01, 1.800000e+01, 1.800000e+01, 1.000000e+01,\n",
       "        9.000000e+00, 5.000000e+00, 1.000000e+00, 0.000000e+00,\n",
       "        2.000000e+00, 1.000000e+00]),\n",
       " array([-11.788121  , -11.246512  , -10.704905  , -10.163296  ,\n",
       "         -9.621688  ,  -9.080079  ,  -8.538471  ,  -7.9968624 ,\n",
       "         -7.455254  ,  -6.9136457 ,  -6.3720374 ,  -5.830429  ,\n",
       "         -5.2888207 ,  -4.7472124 ,  -4.205604  ,  -3.6639957 ,\n",
       "         -3.1223872 ,  -2.5807788 ,  -2.0391705 ,  -1.4975622 ,\n",
       "         -0.9559538 ,  -0.4143454 ,   0.12726295,   0.66887134,\n",
       "          1.2104797 ,   1.7520881 ,   2.2936964 ,   2.8353047 ,\n",
       "          3.376913  ,   3.9185216 ,   4.4601297 ,   5.001738  ,\n",
       "          5.543347  ,   6.084955  ,   6.6265635 ,   7.168172  ,\n",
       "          7.70978   ,   8.251389  ,   8.792997  ,   9.334605  ,\n",
       "          9.876214  ,  10.417822  ,  10.959431  ,  11.501039  ,\n",
       "         12.042647  ,  12.584255  ,  13.125864  ,  13.667472  ,\n",
       "         14.209081  ,  14.750689  ,  15.292297  ], dtype=float32),\n",
       " <BarContainer object of 50 artists>)"
      ]
     },
     "execution_count": 34,
     "metadata": {},
     "output_type": "execute_result"
    },
    {
     "data": {
      "image/png": "[encoded data removed]",
      "text/plain": [
       "<Figure size 640x480 with 1 Axes>"
      ]
     },
     "metadata": {},
     "output_type": "display_data"
    }
   ],
   "source": [
    "#adata = ad.AnnData(X=df_norm.values, obs=df_norm.index, var=df_norm.columns)\n",
    "Adata_gene = sc.AnnData(df_norm_gene)\n",
    "sc.pp.scale(Adata_gene)\n",
    "df_gene = Adata_gene.to_df()\n",
    "df_gene.dropna(axis =1, inplace = True)\n",
    "# print the anndata object\n",
    "plt.hist(df_gene.values.flatten(), bins = 50)"
   ]
  },
  {
   "cell_type": "code",
   "execution_count": 35,
   "id": "c81a71ab",
   "metadata": {
    "scrolled": true
   },
   "outputs": [
    {
     "name": "stderr",
     "output_type": "stream",
     "text": [
      "/var/folders/q9/1w3bs32d6wb1c2s8zkkch0hc0000gn/T/ipykernel_62991/1146858922.py:6: FutureWarning: Support for multi-dimensional indexing (e.g. `obj[:, None]`) is deprecated and will be removed in a future version.  Convert to a numpy array before indexing instead.\n",
      "  df_norm_methyl = np.log1p(methyl_df / norm_factor[:, None])\n"
     ]
    }
   ],
   "source": [
    "#methyl_df = methyl_df.reset_index(drop=True)\n",
    "methyl_counts = methyl_df.sum(axis=1)\n",
    "norm_factor = methyl_counts / np.median(methyl_counts)\n",
    "\n",
    "# normalize data\n",
    "df_norm_methyl = np.log1p(methyl_df / norm_factor[:, None])"
   ]
  },
  {
   "cell_type": "code",
   "execution_count": 36,
   "id": "582c12e1",
   "metadata": {
    "scrolled": true
   },
   "outputs": [
    {
     "name": "stderr",
     "output_type": "stream",
     "text": [
      "/var/folders/q9/1w3bs32d6wb1c2s8zkkch0hc0000gn/T/ipykernel_62991/347488924.py:1: FutureWarning: X.dtype being converted to np.float32 from float64. In the next version of anndata (0.9) conversion will not be automatic. Pass dtype explicitly to avoid this warning. Pass `AnnData(X, dtype=X.dtype, ...)` to get the future behavour.\n",
      "  Adata_methyl = sc.AnnData(df_norm_methyl)\n"
     ]
    },
    {
     "data": {
      "text/plain": [
       "(array([4.000000e+00, 2.000000e+00, 8.000000e+00, 1.600000e+01,\n",
       "        3.300000e+01, 4.900000e+01, 9.400000e+01, 2.060000e+02,\n",
       "        4.070000e+02, 7.950000e+02, 1.684000e+03, 3.538000e+03,\n",
       "        8.544000e+03, 2.252800e+04, 6.733900e+04, 2.219000e+05,\n",
       "        8.495460e+05, 2.747442e+06, 4.263001e+06, 3.092693e+06,\n",
       "        1.090602e+06, 3.103340e+05, 9.387100e+04, 3.057900e+04,\n",
       "        1.113100e+04, 4.553000e+03, 1.927000e+03, 9.830000e+02,\n",
       "        5.940000e+02, 3.530000e+02, 2.420000e+02, 1.710000e+02,\n",
       "        1.280000e+02, 1.040000e+02, 7.700000e+01, 5.800000e+01,\n",
       "        3.700000e+01, 3.300000e+01, 2.700000e+01, 2.400000e+01,\n",
       "        1.500000e+01, 1.300000e+01, 1.100000e+01, 2.000000e+00,\n",
       "        4.000000e+00, 4.000000e+00, 1.000000e+00, 1.000000e+00,\n",
       "        3.000000e+00, 3.000000e+00]),\n",
       " array([-13.873797  , -13.127888  , -12.381977  , -11.636067  ,\n",
       "        -10.890158  , -10.144248  ,  -9.398337  ,  -8.652428  ,\n",
       "         -7.906518  ,  -7.160608  ,  -6.414698  ,  -5.668788  ,\n",
       "         -4.9228783 ,  -4.176968  ,  -3.4310582 ,  -2.6851482 ,\n",
       "         -1.9392384 ,  -1.1933285 ,  -0.4474185 ,   0.29849142,\n",
       "          1.0444014 ,   1.7903113 ,   2.5362213 ,   3.2821312 ,\n",
       "          4.028041  ,   4.773951  ,   5.519861  ,   6.265771  ,\n",
       "          7.011681  ,   7.757591  ,   8.503501  ,   9.249411  ,\n",
       "          9.99532   ,  10.741231  ,  11.487141  ,  12.23305   ,\n",
       "         12.97896   ,  13.724871  ,  14.47078   ,  15.21669   ,\n",
       "         15.9626    ,  16.70851   ,  17.45442   ,  18.20033   ,\n",
       "         18.94624   ,  19.69215   ,  20.438059  ,  21.18397   ,\n",
       "         21.92988   ,  22.675789  ,  23.4217    ], dtype=float32),\n",
       " <BarContainer object of 50 artists>)"
      ]
     },
     "execution_count": 36,
     "metadata": {},
     "output_type": "execute_result"
    },
    {
     "data": {
      "image/png": "[encoded data removed]",
      "text/plain": [
       "<Figure size 640x480 with 1 Axes>"
      ]
     },
     "metadata": {},
     "output_type": "display_data"
    }
   ],
   "source": [
    "Adata_methyl = sc.AnnData(df_norm_methyl)\n",
    "sc.pp.scale(Adata_methyl)\n",
    "df_methyl = Adata_methyl.to_df()\n",
    "df_methyl.dropna(axis =1, inplace = True)\n",
    "# print the anndata object\n",
    "plt.hist(df_methyl.values.flatten(), bins = 50)"
   ]
  },
  {
   "cell_type": "code",
   "execution_count": 37,
   "id": "c5bd7377",
   "metadata": {
    "scrolled": true
   },
   "outputs": [
    {
     "name": "stderr",
     "output_type": "stream",
     "text": [
      "/var/folders/q9/1w3bs32d6wb1c2s8zkkch0hc0000gn/T/ipykernel_62991/33941322.py:5: FutureWarning: Support for multi-dimensional indexing (e.g. `obj[:, None]`) is deprecated and will be removed in a future version.  Convert to a numpy array before indexing instead.\n",
      "  df_norm_prot = np.log1p(prot_df / prot_norm_factor[:, None])\n",
      "/Users/fenisha/opt/anaconda3/lib/python3.9/site-packages/pandas/core/internals/blocks.py:402: RuntimeWarning: invalid value encountered in log1p\n",
      "  result = func(self.values, **kwargs)\n"
     ]
    },
    {
     "data": {
      "text/plain": [
       "(array([2.0000e+00, 0.0000e+00, 0.0000e+00, 0.0000e+00, 0.0000e+00,\n",
       "        2.0000e+00, 1.0000e+00, 8.0000e+00, 5.0000e+00, 3.0000e+00,\n",
       "        4.0000e+00, 2.1000e+01, 2.2000e+01, 3.3000e+01, 4.4000e+01,\n",
       "        6.9000e+01, 9.4000e+01, 1.2600e+02, 1.9300e+02, 3.0000e+02,\n",
       "        4.1800e+02, 6.7200e+02, 1.0400e+03, 1.8190e+03, 3.8460e+03,\n",
       "        1.1886e+04, 5.9258e+04, 3.3388e+04, 9.7960e+03, 3.8670e+03,\n",
       "        1.8400e+03, 9.8300e+02, 5.7100e+02, 4.2300e+02, 3.2700e+02,\n",
       "        2.3900e+02, 2.0000e+02, 1.5700e+02, 1.1600e+02, 1.1400e+02,\n",
       "        9.0000e+01, 5.5000e+01, 5.6000e+01, 4.4000e+01, 2.8000e+01,\n",
       "        1.8000e+01, 9.0000e+00, 5.0000e+00, 0.0000e+00, 1.0000e+00]),\n",
       " array([-9.09099361, -8.7511523 , -8.411311  , -8.07146969, -7.73162838,\n",
       "        -7.39178707, -7.05194576, -6.71210445, -6.37226314, -6.03242183,\n",
       "        -5.69258052, -5.35273921, -5.0128979 , -4.67305659, -4.33321528,\n",
       "        -3.99337397, -3.65353266, -3.31369135, -2.97385004, -2.63400873,\n",
       "        -2.29416742, -1.95432611, -1.6144848 , -1.27464349, -0.93480218,\n",
       "        -0.59496087, -0.25511957,  0.08472174,  0.42456305,  0.76440436,\n",
       "         1.10424567,  1.44408698,  1.78392829,  2.1237696 ,  2.46361091,\n",
       "         2.80345222,  3.14329353,  3.48313484,  3.82297615,  4.16281746,\n",
       "         4.50265877,  4.84250008,  5.18234139,  5.5221827 ,  5.86202401,\n",
       "         6.20186532,  6.54170663,  6.88154794,  7.22138925,  7.56123056,\n",
       "         7.90107186]),\n",
       " <BarContainer object of 50 artists>)"
      ]
     },
     "execution_count": 37,
     "metadata": {},
     "output_type": "execute_result"
    },
    {
     "data": {
      "image/png": "[encoded data removed]",
      "text/plain": [
       "<Figure size 640x480 with 1 Axes>"
      ]
     },
     "metadata": {},
     "output_type": "display_data"
    }
   ],
   "source": [
    "prot_counts = prot_df.sum(axis=1)\n",
    "prot_norm_factor = prot_counts / np.median(prot_counts)\n",
    "\n",
    "# normalize data\n",
    "df_norm_prot = np.log1p(prot_df / prot_norm_factor[:, None])\n",
    "plt.hist(df_norm_prot.values.flatten(), bins = 50)"
   ]
  },
  {
   "cell_type": "code",
   "execution_count": 43,
   "id": "a2338d77",
   "metadata": {
    "scrolled": true
   },
   "outputs": [
    {
     "name": "stdout",
     "output_type": "stream",
     "text": [
      "(638, 915)\n"
     ]
    }
   ],
   "source": [
    "# compute variance and mean\n",
    "variance = np.var(df_norm_gene, axis=0, ddof=1)\n",
    "mean = np.mean(df_norm_gene, axis=0)\n",
    "\n",
    "# select highly variable genes\n",
    "hv_genes = np.logical_and(variance > np.percentile(variance, 95), mean > 0)\n",
    "hvg = df_norm_gene.loc[:, hv_genes]\n",
    "hvg = hvg.fillna(hvg.mean())\n",
    "\n",
    "# output results\n",
    "print(hvg.shape)"
   ]
  },
  {
   "cell_type": "code",
   "execution_count": 41,
   "id": "9555eaff",
   "metadata": {
    "scrolled": true
   },
   "outputs": [
    {
     "name": "stdout",
     "output_type": "stream",
     "text": [
      "(638, 1006)\n"
     ]
    }
   ],
   "source": [
    "# compute variance and mean\n",
    "variance_methyl = np.var(df_norm_methyl, axis=0, ddof=1)\n",
    "mean_methyl = np.mean(df_norm_methyl, axis=0)\n",
    "\n",
    "# select highly variable genes\n",
    "hv_methyl = np.logical_and(variance_methyl > np.percentile(variance_methyl, 95), mean_methyl > 0)\n",
    "#np.percentile(variance_methyl, 95) calculates the 95th percentile of the variance values in the variance_methyl array.\n",
    "#This gives us a threshold above which values are considered \"high variance\".\n",
    "#variance_methyl > np.percentile(variance_methyl, 95) returns a boolean mask where True values indicate that a given \n",
    "#variance value is greater than the 95th percentile threshold. mean_methyl > 0 returns a boolean mask where True \n",
    "#values indicate that a given mean value is greater than 0. This is used to filter out any probes with low or no methylation.\n",
    "#np.logical_and() combines these two boolean masks using a logical AND operation, so that only the rows where both conditions \n",
    "#are True are kept. The resulting boolean mask is assigned to hv_methyl, which can be used to filter the original DataFrame\n",
    "\n",
    "hvm = df_norm_methyl.loc[:, hv_methyl]\n",
    "hvm = hvm.fillna(hvm.mean())\n",
    "# output results\n",
    "print(hvm.shape)"
   ]
  },
  {
   "cell_type": "code",
   "execution_count": 42,
   "id": "203c33df",
   "metadata": {
    "scrolled": false
   },
   "outputs": [
    {
     "name": "stdout",
     "output_type": "stream",
     "text": [
      "(638, 226)\n"
     ]
    }
   ],
   "source": [
    "print(df_norm_prot.shape)"
   ]
  },
  {
   "cell_type": "code",
   "execution_count": 44,
   "id": "996b32b4",
   "metadata": {},
   "outputs": [],
   "source": [
    "hvg.to_csv('final_gene.txt', sep='\\t', index=True, header=True)\n",
    "hvm.to_csv('final_methyl.txt', sep='\\t', index=True, header=True)\n",
    "df_norm_prot.to_csv('final_prot.txt', sep='\\t', index=True, header=True)"
   ]
  }
 ],
 "metadata": {
  "kernelspec": {
   "display_name": "pytorch1",
   "language": "python",
   "name": "pytorch1"
  },
  "language_info": {
   "codemirror_mode": {
    "name": "ipython",
    "version": 3
   },
   "file_extension": ".py",
   "mimetype": "text/x-python",
   "name": "python",
   "nbconvert_exporter": "python",
   "pygments_lexer": "ipython3",
   "version": "3.9.13"
  }
 },
 "nbformat": 4,
 "nbformat_minor": 5
}
